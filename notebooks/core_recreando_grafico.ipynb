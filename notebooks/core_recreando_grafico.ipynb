{
 "cells": [
  {
   "cell_type": "markdown",
   "metadata": {},
   "source": [
    "## Recreando gráfico (Core)\n",
    "En este ejercicio, los estudiantes deberán reproducir un gráfico completo de Seaborn basado en una imagen del gráfico terminado. El gráfico incluirá elementos como cuadrículas, leyendas, anotaciones y flechas."
   ]
  },
  {
   "cell_type": "code",
   "execution_count": null,
   "metadata": {},
   "outputs": [],
   "source": [
    "import seaborn as sns\n",
    "import matplotlib.pyplot as plt\n",
    "\n",
    "# Cargar el dataset\n",
    "df = sns.load_dataset('tips')\n",
    "\n",
    "# Crear una figura y un eje\n",
    "fig, ax = plt.subplots(figsize=(12, 6))\n",
    "\n",
    "# Gráfico de dispersión con cuadrícula, leyenda, anotaciones y flechas\n",
    "sns.scatterplot(data=df, x='total_bill', y='tip', hue='time', style='smoker', s=100, ax=ax)\n",
    "ax.set_title('Relación entre Total Bill y Tip con Anotaciones y Flechas', fontsize=20)\n",
    "ax.set_xlabel('Total Bill ($)', fontsize=15)\n",
    "ax.set_ylabel('Tip ($)', fontsize=15)\n",
    "ax.legend(loc='upper right', fontsize='large', shadow=True, title='Detalles')\n",
    "\n",
    "# Añadir cuadrícula\n",
    "ax.grid(True, which='both', linestyle='--', linewidth=0.5, color='gray')\n",
    "\n",
    "# Añadir anotación (anotando el punto con el mayor tip)\n",
    "ax.annotate('Mayor tip en la cena', xy=(40, 8), xytext=(45, 9),\n",
    "            arrowprops=dict(facecolor='black', shrink=0.05))\n",
    "\n",
    "# Añadir flecha (dirigiéndose al punto de mayor propina)\n",
    "ax.arrow(35, 7.5, 3, 0.5, head_width=0.8, head_length=0.5, fc='green', ec='green')\n",
    "\n",
    "# Mostrar el gráfico\n",
    "plt.show()\n"
   ]
  }
 ],
 "metadata": {
  "kernelspec": {
   "display_name": "Python 3",
   "language": "python",
   "name": "python3"
  },
  "language_info": {
   "codemirror_mode": {
    "name": "ipython",
    "version": 3
   },
   "file_extension": ".py",
   "mimetype": "text/x-python",
   "name": "python",
   "nbconvert_exporter": "python",
   "pygments_lexer": "ipython3",
   "version": "3.12.0"
  }
 },
 "nbformat": 4,
 "nbformat_minor": 2
}
