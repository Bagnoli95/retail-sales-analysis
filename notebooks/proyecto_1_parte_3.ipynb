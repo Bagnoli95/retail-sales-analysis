{
 "cells": [
  {
   "cell_type": "markdown",
   "metadata": {},
   "source": [
    "## Análisis y Predicción de Ventas en una Tienda de Retail (Core)\n",
    "En esta tercera parte del proyecto, continuaremos trabajando con el dataset de ventas que utilizamos en la Parte II. En esta fase, aplicaremos técnicas avanzadas de transformación y análisis de datos utilizando las nuevas habilidades adquiridas en Pandas, tales como agrupaciones complejas y el uso del método apply. Nos enfocaremos en extraer insights más profundos y preparar los datos para futuros análisis y modelos predictivos.\n",
    "\n",
    "## Instrucciones\n",
    "### Transformación de Datos\n",
    "    - Crea nuevas columnas: Basándonos en los datos existentes, crea nuevas columnas que sean útiles para el análisis. Por ejemplo, calcula el ingreso total por venta y normaliza las ventas.\n",
    "    - Clasifica los datos: Crea una columna que clasifique las ventas en categorías significativas (e.g., ‘Alta’, ‘Media’, ‘Baja’)."
   ]
  },
  {
   "cell_type": "code",
   "execution_count": null,
   "metadata": {},
   "outputs": [],
   "source": [
    "import pandas as pd\n",
    "\n",
    "# Cargar datos desde un archivo CSV\n",
    "df = pd.read_csv('../data/retail_sales_dataset.csv')\n",
    "\n",
    "# Ver las primeras\n",
    "print(\"Primeras filas del DataFrame:\")\n",
    "print(df.head(10))\n",
    "\n",
    "# Identificar valores nulos en todo el DataFrame\n",
    "print(df.isnull().sum())\n",
    "print('-----------------------------------------', end='\\n')\n",
    "\n",
    "# Defining all the conditions inside a function\n",
    "def condition(x):\n",
    "    if x>500:\n",
    "        return \"ALTA\"\n",
    "    elif x>=100 and x<=499:\n",
    "        return \"MEDIA\"\n",
    "    else:\n",
    "        return 'BAJA'\n",
    "\n",
    "# Nueva columna\n",
    "print(df.head(3))\n",
    "df['Clasificacion'] = df['Total Amount'].apply(condition)\n",
    "print(df.head(3))\n",
    "print('-----------------------------------------', end='\\n')\n",
    "\n"
   ]
  },
  {
   "cell_type": "markdown",
   "metadata": {},
   "source": [
    "### Agrupación y Agregación\n",
    "    - Agrupación por múltiples columnas: Realiza agrupaciones por categorías como producto y tienda, producto y mes, etc.\n",
    "    - Aplicar funciones de agregación: Utiliza funciones como sum, mean, count, min, max, std, y var para obtener estadísticas descriptivas de cada grupo."
   ]
  },
  {
   "cell_type": "code",
   "execution_count": null,
   "metadata": {},
   "outputs": [],
   "source": [
    "# Agrupar en categorias ('cash_type' y sumar 'money')\n",
    "grouped_df = df.groupby('Clasificacion')['Total Amount'].sum().reset_index()\n",
    "# Imprimir el DataFrame agrupado\n",
    "print(grouped_df)\n",
    "print('-----------------------------------------', end='\\n')\n",
    "\n",
    "# Agrupar en categorias ('cash_type' y promediar 'money')\n",
    "grouped_df = df.groupby('Gender')['Total Amount'].mean().reset_index()\n",
    "# Imprimir el DataFrame agrupado\n",
    "print(grouped_df)\n",
    "print('-----------------------------------------', end='\\n')"
   ]
  },
  {
   "cell_type": "markdown",
   "metadata": {},
   "source": [
    "### Análisis Personalizado con apply\n",
    "    - Función personalizada: Aplica funciones personalizadas para realizar análisis específicos que no se pueden lograr con las funciones de agregación estándar.\n",
    "    - Ejemplo de uso avanzado: Calcula la desviación de cada venta respecto a la media de su grupo."
   ]
  },
  {
   "cell_type": "code",
   "execution_count": 7,
   "metadata": {},
   "outputs": [
    {
     "name": "stdout",
     "output_type": "stream",
     "text": [
      "   Transaction ID        Date Customer ID  Gender  Age Product Category  \\\n",
      "0               1  2023-11-24     CUST001    Male   34           Beauty   \n",
      "1               2  2023-02-27     CUST002  Female   26         Clothing   \n",
      "2               3  2023-01-13     CUST003    Male   50      Electronics   \n",
      "\n",
      "   Quantity  Price per Unit  Total Amount Clasificacion  descuento  \n",
      "0         3              50           150         MEDIA       15.0  \n",
      "1         2             500          1000          ALTA      100.0  \n",
      "2         1              30            30          BAJA        3.0  \n",
      "-----------------------------------------\n"
     ]
    }
   ],
   "source": [
    "# Agregar un descuento de producto\n",
    "# Función para calcular el 10%\n",
    "def calcular_descuento(monto):\n",
    "    return monto * 0.10\n",
    "# Aplicar la función a la columna 'money'\n",
    "df['descuento'] = df['Total Amount'].apply(calcular_descuento)\n",
    "print(df.head(3))\n",
    "print('-----------------------------------------', end='\\n')"
   ]
  },
  {
   "cell_type": "markdown",
   "metadata": {},
   "source": [
    "### Documentación\n",
    "    - Comentarios claros: Documenta claramente cada paso del análisis, explicando qué se hizo y por qué se hizo.\n",
    "    - Código legible: Asegúrate de que el código sea legible y esté bien comentado"
   ]
  }
 ],
 "metadata": {
  "kernelspec": {
   "display_name": "Python 3",
   "language": "python",
   "name": "python3"
  },
  "language_info": {
   "codemirror_mode": {
    "name": "ipython",
    "version": 3
   },
   "file_extension": ".py",
   "mimetype": "text/x-python",
   "name": "python",
   "nbconvert_exporter": "python",
   "pygments_lexer": "ipython3",
   "version": "3.12.0"
  }
 },
 "nbformat": 4,
 "nbformat_minor": 2
}
