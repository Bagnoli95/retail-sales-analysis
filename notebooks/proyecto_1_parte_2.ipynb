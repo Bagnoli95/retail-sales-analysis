{
 "cells": [
  {
   "cell_type": "markdown",
   "metadata": {},
   "source": [
    "## Proyecto I- Parte 2 (Core)\n",
    "### Análisis y Predicción de Ventas en una Tienda de Retail\n",
    "### Parte II: Análisis Exploratorio con Pandas\n",
    "En esta segunda parte del proyecto, vamos a utilizar Pandas para realizar un análisis exploratorio más detallado de nuestro dataset de ventas. El objetivo es aplicar técnicas de carga, exploración, filtrado y slicing de datos para obtener una comprensión profunda de los datos y preparar el dataset para futuros análisis y modelados predictivos.\n",
    "\n",
    "### Instrucciones\n",
    "### Preparación del Entorno\n",
    "    - Asegúrate de tener instalado Pandas en tu entorno de trabajo.\n",
    "    - Utiliza el archivo retail_sales.csv del proyecto inicial. Si aún no lo tienes, descarga el archivo correspondiente.\n",
    "\n",
    "### Cargar los Datos\n",
    "    - Carga el archivo retail_sales.csv en un DataFrame de Pandas.\n",
    "    - Muestra las primeras 10 filas del DataFrame para confirmar que los datos se han cargado correctamente."
   ]
  },
  {
   "cell_type": "code",
   "execution_count": 1,
   "metadata": {},
   "outputs": [
    {
     "name": "stdout",
     "output_type": "stream",
     "text": [
      "Primeras filas del DataFrame:\n",
      "   Transaction ID        Date Customer ID  Gender  Age Product Category  \\\n",
      "0               1  2023-11-24     CUST001    Male   34           Beauty   \n",
      "1               2  2023-02-27     CUST002  Female   26         Clothing   \n",
      "2               3  2023-01-13     CUST003    Male   50      Electronics   \n",
      "3               4  2023-05-21     CUST004    Male   37         Clothing   \n",
      "4               5  2023-05-06     CUST005    Male   30           Beauty   \n",
      "5               6  2023-04-25     CUST006  Female   45           Beauty   \n",
      "6               7  2023-03-13     CUST007    Male   46         Clothing   \n",
      "7               8  2023-02-22     CUST008    Male   30      Electronics   \n",
      "8               9  2023-12-13     CUST009    Male   63      Electronics   \n",
      "9              10  2023-10-07     CUST010  Female   52         Clothing   \n",
      "\n",
      "   Quantity  Price per Unit  Total Amount  \n",
      "0         3              50           150  \n",
      "1         2             500          1000  \n",
      "2         1              30            30  \n",
      "3         1             500           500  \n",
      "4         2              50           100  \n",
      "5         1              30            30  \n",
      "6         2              25            50  \n",
      "7         4              25           100  \n",
      "8         2             300           600  \n",
      "9         4              50           200  \n"
     ]
    }
   ],
   "source": [
    "import pandas as pd\n",
    "\n",
    "# Cargar datos desde un archivo CSV\n",
    "df = pd.read_csv('../data/retail_sales_dataset.csv')\n",
    "\n",
    "# Ver las primeras\n",
    "print(\"Primeras filas del DataFrame:\")\n",
    "print(df.head(10))"
   ]
  },
  {
   "cell_type": "markdown",
   "metadata": {},
   "source": [
    "### Exploración Inicial de los Datos\n",
    "    - Muestra las últimas 5 filas del DataFrame.\n",
    "    - Utiliza el método info() para obtener información general sobre el DataFrame, incluyendo el número de entradas, nombres de las columnas, tipos de datos y memoria utilizada.\n",
    "    - Genera estadísticas descriptivas del DataFrame utilizando el método describe()."
   ]
  },
  {
   "cell_type": "code",
   "execution_count": null,
   "metadata": {},
   "outputs": [],
   "source": [
    "print(\"Últimas filas del DataFrame:\")\n",
    "print(df.tail(5))\n",
    "print('-----------------------------------------', end='\\n')\n",
    "\n",
    "print(\"Información del DataFrame:\")\n",
    "print(df.info())\n",
    "print('-----------------------------------------', end='\\n')\n",
    "\n",
    "print(\"Estadísticas descriptivas del DataFrame:\")\n",
    "print(df.describe())\n",
    "print('-----------------------------------------', end='\\n')"
   ]
  },
  {
   "cell_type": "markdown",
   "metadata": {},
   "source": [
    "### Inspección de los Datos\n",
    "    - Inspecciona los tipos de datos de cada columna utilizando el atributo dtypes.\n",
    "    - Cuenta los valores únicos en la columna Producto utilizando el método value_counts().\n",
    "    - Muestra todos los valores únicos en la columna Tienda utilizando el método unique()."
   ]
  },
  {
   "cell_type": "code",
   "execution_count": null,
   "metadata": {},
   "outputs": [],
   "source": [
    "# Inspeccionar los tipos de datos de las columnas\n",
    "print(\"Tipos de datos de las columnas:\")\n",
    "print(df.dtypes)\n",
    "print('-----------------------------------------', end='\\n')\n",
    "\n",
    "# Contar valores únicos en una columna específica\n",
    "print(\"Conteo de valores únicos en la columna 'Quantity':\")\n",
    "print(df['Quantity'].value_counts())\n",
    "print('-----------------------------------------', end='\\n')\n",
    "\n",
    "# Obtener valores únicos en una columna específica\n",
    "print(\"nValores únicos en la columna 'Date':\")\n",
    "print(df['Date'].unique())\n",
    "print('-----------------------------------------', end='\\n')"
   ]
  },
  {
   "cell_type": "markdown",
   "metadata": {},
   "source": [
    "### Filtrado de Datos\n",
    "    - Filtra el DataFrame para mostrar solo las filas donde las ventas (Ventas) sean mayores a 50.\n",
    "    - Filtra el DataFrame para mostrar solo las filas donde el precio (Precio) sea menor a 0.5.\n",
    "    - Utilizando el método query(), filtra el DataFrame para mostrar las filas donde el producto sea Manzanas y las ventas sean mayores a 30."
   ]
  },
  {
   "cell_type": "code",
   "execution_count": null,
   "metadata": {},
   "outputs": [],
   "source": [
    "# Filtrado de ventas\n",
    "ventas_mayores_a_50 = df[(df['Total Amount'] > 50)]\n",
    "print(ventas_mayores_a_50)\n",
    "print('-----------------------------------------', end='\\n')\n",
    "\n",
    "# Filtrado de ventas\n",
    "ventas_menores_a_0_5 = df[(df['Price per Unit'] < 0.5)]\n",
    "print(ventas_menores_a_0_5)\n",
    "print('-----------------------------------------', end='\\n')\n",
    "\n",
    "# Metodo query\n",
    "query_result = df.query('`Product Category` == \"Electronics\" & `Total Amount` > 30')\n",
    "print(query_result)\n",
    "print('-----------------------------------------', end='\\n')"
   ]
  },
  {
   "cell_type": "markdown",
   "metadata": {},
   "source": [
    "### Slicing de Datos\n",
    "    - Selecciona y muestra solo las columnas Producto y Ventas del DataFrame.\n",
    "    - Utilizando loc[], selecciona y muestra las filas de la 5 a la 10 (inclusive) y las columnas Producto y Tienda.\n",
    "    - Utilizando iloc[], selecciona y muestra las primeras 5 filas y las primeras 3 columnas del DataFrame."
   ]
  },
  {
   "cell_type": "code",
   "execution_count": 27,
   "metadata": {},
   "outputs": [
    {
     "name": "stdout",
     "output_type": "stream",
     "text": [
      "   Transaction ID        Date Customer ID  Gender  Age Product Category  \\\n",
      "0               1  2023-11-24     CUST001    Male   34           Beauty   \n",
      "1               2  2023-02-27     CUST002  Female   26         Clothing   \n",
      "2               3  2023-01-13     CUST003    Male   50      Electronics   \n",
      "3               4  2023-05-21     CUST004    Male   37         Clothing   \n",
      "4               5  2023-05-06     CUST005    Male   30           Beauty   \n",
      "\n",
      "   Quantity  Price per Unit  Total Amount  \n",
      "0         3              50           150  \n",
      "1         2             500          1000  \n",
      "2         1              30            30  \n",
      "3         1             500           500  \n",
      "4         2              50           100  \n",
      "-----------------------------------------\n",
      "Index(['Transaction ID', 'Date', 'Customer ID', 'Gender', 'Age',\n",
      "       'Product Category', 'Quantity', 'Price per Unit', 'Total Amount'],\n",
      "      dtype='object')\n",
      "-----------------------------------------\n",
      "           Date        Date\n",
      "0    2023-11-24  2023-11-24\n",
      "1    2023-02-27  2023-02-27\n",
      "2    2023-01-13  2023-01-13\n",
      "3    2023-05-21  2023-05-21\n",
      "4    2023-05-06  2023-05-06\n",
      "..          ...         ...\n",
      "995  2023-05-16  2023-05-16\n",
      "996  2023-11-17  2023-11-17\n",
      "997  2023-10-29  2023-10-29\n",
      "998  2023-12-05  2023-12-05\n",
      "999  2023-04-12  2023-04-12\n",
      "\n",
      "[1000 rows x 2 columns]\n",
      "-----------------------------------------\n",
      "          Date  Gender\n",
      "5   2023-04-25  Female\n",
      "6   2023-03-13    Male\n",
      "7   2023-02-22    Male\n",
      "8   2023-12-13    Male\n",
      "9   2023-10-07  Female\n",
      "10  2023-02-14    Male\n",
      "-----------------------------------------\n",
      "   Transaction ID        Date Customer ID\n",
      "0               1  2023-11-24     CUST001\n",
      "1               2  2023-02-27     CUST002\n",
      "2               3  2023-01-13     CUST003\n",
      "3               4  2023-05-21     CUST004\n",
      "4               5  2023-05-06     CUST005\n",
      "-----------------------------------------\n"
     ]
    }
   ],
   "source": [
    "print(df.head(5))\n",
    "print('-----------------------------------------', end='\\n')\n",
    "\n",
    "\n",
    "print(df.columns)\n",
    "print('-----------------------------------------', end='\\n')\n",
    "\n",
    "# Seleccionar Name y Global_Sales\n",
    "sliced_rows = df[['Date','Date']]\n",
    "print(sliced_rows)\n",
    "print('-----------------------------------------', end='\\n')\n",
    "\n",
    "# Seleccionar filas y columnas específicas con loc\n",
    "loc_result = df.loc[5:10, ['Date', 'Gender']]\n",
    "print(loc_result)\n",
    "print('-----------------------------------------', end='\\n')\n",
    "\n",
    "# Seleccionar filas y columnas específicas con iloc\n",
    "iloc_result = df.iloc[0:5, 0:3]\n",
    "print(iloc_result)\n",
    "print('-----------------------------------------', end='\\n')"
   ]
  }
 ],
 "metadata": {
  "kernelspec": {
   "display_name": "Python 3",
   "language": "python",
   "name": "python3"
  },
  "language_info": {
   "codemirror_mode": {
    "name": "ipython",
    "version": 3
   },
   "file_extension": ".py",
   "mimetype": "text/x-python",
   "name": "python",
   "nbconvert_exporter": "python",
   "pygments_lexer": "ipython3",
   "version": "3.12.0"
  }
 },
 "nbformat": 4,
 "nbformat_minor": 2
}
