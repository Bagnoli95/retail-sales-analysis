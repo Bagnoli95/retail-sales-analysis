{
 "cells": [
  {
   "cell_type": "code",
   "execution_count": 1,
   "metadata": {},
   "outputs": [
    {
     "name": "stdout",
     "output_type": "stream",
     "text": [
      "   Producto  Ventas  Precio\n",
      "0  Manzanas      50    0.50\n",
      "1  Naranjas      30    0.75\n",
      "3     Peras      60    0.40\n"
     ]
    }
   ],
   "source": [
    "import pandas as pd\n",
    "\n",
    "# Crear un DataFrame de ejemplo\n",
    "data = {\n",
    "    'Producto': ['Manzanas', 'Naranjas', 'Bananas', 'Peras'],\n",
    "    'Ventas': [50, 30, 20, 60],\n",
    "    'Precio': [0.5, 0.75, 0.3, 0.4]\n",
    "}\n",
    "df = pd.DataFrame(data)\n",
    "\n",
    "# Filtrar filas donde las ventas son mayores a 25\n",
    "ventas_mayores_25 = df[df['Ventas'] > 25]\n",
    "print(ventas_mayores_25)"
   ]
  },
  {
   "cell_type": "code",
   "execution_count": 2,
   "metadata": {},
   "outputs": [
    {
     "name": "stdout",
     "output_type": "stream",
     "text": [
      "  Producto  Ventas  Precio\n",
      "3    Peras      60     0.4\n"
     ]
    }
   ],
   "source": [
    "# Filtrar filas donde las ventas son mayores a 25 y el precio es menor a 0.5\n",
    "ventas_mayores_25_precio_menor_05 = df[(df['Ventas'] > 25) & (df['Precio'] < 0.5)]\n",
    "print(ventas_mayores_25_precio_menor_05)"
   ]
  },
  {
   "cell_type": "code",
   "execution_count": 3,
   "metadata": {},
   "outputs": [
    {
     "name": "stdout",
     "output_type": "stream",
     "text": [
      "  Producto  Ventas  Precio\n",
      "3    Peras      60     0.4\n"
     ]
    }
   ],
   "source": [
    "# Filtrar filas utilizando el método query\n",
    "query_result = df.query('Ventas > 25 & Precio < 0.5')\n",
    "print(query_result)"
   ]
  },
  {
   "cell_type": "code",
   "execution_count": 4,
   "metadata": {},
   "outputs": [
    {
     "name": "stdout",
     "output_type": "stream",
     "text": [
      "Ventas    50.0\n",
      "Precio     0.5\n",
      "Name: Manzanas, dtype: float64\n"
     ]
    }
   ],
   "source": [
    "# Filtrar filas utilizando el índice\n",
    "df_indexed = df.set_index('Producto')\n",
    "ventas_manzanas = df_indexed.loc['Manzanas']\n",
    "print(ventas_manzanas)"
   ]
  },
  {
   "cell_type": "code",
   "execution_count": 5,
   "metadata": {},
   "outputs": [
    {
     "name": "stdout",
     "output_type": "stream",
     "text": [
      "   Producto  Ventas  Precio\n",
      "0  Manzanas      50     0.5\n",
      "2   Bananas      20     0.3\n"
     ]
    }
   ],
   "source": [
    "# Filtrar filas donde el producto es 'Manzanas' o 'Bananas'\n",
    "ventas_manzanas_bananas = df[df['Producto'].isin(['Manzanas', 'Bananas'])]\n",
    "print(ventas_manzanas_bananas)"
   ]
  },
  {
   "cell_type": "code",
   "execution_count": 6,
   "metadata": {},
   "outputs": [
    {
     "name": "stdout",
     "output_type": "stream",
     "text": [
      "   Producto  Ventas  Precio\n",
      "1  Naranjas      30    0.75\n",
      "2   Bananas      20    0.30\n",
      "   Producto  Ventas\n",
      "0  Manzanas      50\n",
      "1  Naranjas      30\n",
      "2   Bananas      20\n",
      "3     Peras      60\n"
     ]
    }
   ],
   "source": [
    "# Seleccionar filas de la 1 a la 3\n",
    "sliced_rows = df[1:3]\n",
    "print(sliced_rows)\n",
    "\n",
    "# Seleccionar columnas por nombre\n",
    "sliced_columns = df[['Producto', 'Ventas']]\n",
    "print(sliced_columns)"
   ]
  },
  {
   "cell_type": "code",
   "execution_count": 7,
   "metadata": {},
   "outputs": [
    {
     "name": "stdout",
     "output_type": "stream",
     "text": [
      "   Producto  Ventas\n",
      "0  Manzanas      50\n",
      "1  Naranjas      30\n",
      "2   Bananas      20\n"
     ]
    }
   ],
   "source": [
    "# Seleccionar filas y columnas específicas con loc\n",
    "loc_result = df.loc[0:2, ['Producto', 'Ventas']]\n",
    "print(loc_result)"
   ]
  },
  {
   "cell_type": "code",
   "execution_count": 8,
   "metadata": {},
   "outputs": [
    {
     "name": "stdout",
     "output_type": "stream",
     "text": [
      "   Producto  Ventas\n",
      "0  Manzanas      50\n",
      "1  Naranjas      30\n",
      "2   Bananas      20\n"
     ]
    }
   ],
   "source": [
    "# Seleccionar filas y columnas específicas con iloc\n",
    "iloc_result = df.iloc[0:3, 0:2]\n",
    "print(iloc_result)"
   ]
  },
  {
   "cell_type": "code",
   "execution_count": 9,
   "metadata": {},
   "outputs": [
    {
     "name": "stdout",
     "output_type": "stream",
     "text": [
      "   Producto  Ventas\n",
      "0  Manzanas      50\n",
      "1  Naranjas      30\n",
      "3     Peras      60\n"
     ]
    }
   ],
   "source": [
    "# Filtrar y luego hacer slicing de columnas\n",
    "filtered_sliced = df[df['Ventas'] > 25].loc[:, ['Producto', 'Ventas']]\n",
    "print(filtered_sliced)"
   ]
  }
 ],
 "metadata": {
  "kernelspec": {
   "display_name": "Python 3",
   "language": "python",
   "name": "python3"
  },
  "language_info": {
   "codemirror_mode": {
    "name": "ipython",
    "version": 3
   },
   "file_extension": ".py",
   "mimetype": "text/x-python",
   "name": "python",
   "nbconvert_exporter": "python",
   "pygments_lexer": "ipython3",
   "version": "3.12.0"
  }
 },
 "nbformat": 4,
 "nbformat_minor": 2
}
