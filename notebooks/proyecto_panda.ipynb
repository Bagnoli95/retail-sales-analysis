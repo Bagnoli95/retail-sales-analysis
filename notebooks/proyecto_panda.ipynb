{
 "cells": [
  {
   "cell_type": "markdown",
   "metadata": {},
   "source": [
    "## Analisis con Pandas y Kaggle (Core)\n",
    "El objetivo de esta actividad es poner en práctica todos los conocimientos adquiridos sobre Pandas a través del análisis completo de un dataset. Los estudiantes deben aplicar técnicas de carga, exploración, limpieza, transformación, y agregación de datos para extraer insights valiosos. La actividad no incluye visualización de datos, enfocándose únicamente en el análisis y manipulación de datos con Pandas.\n",
    "\n",
    "### Instrucciones\n",
    "### Preparación del Entorno\n",
    "    - Asegúrate de tener instalado Pandas en tu entorno de trabajo.\n",
    "    - Descarga el archivo dataset.csv desde Kaggle. Elige un dataset que te interese y que no incluya visualización de datos. Algunas sugerencias pueden ser datasets relacionados con ventas, compras, productos, etc.\n",
    "### Cargar los Datos\n",
    "    - Carga el archivo CSV en un DataFrame de Pandas.\n",
    "    - Muestra las primeras 10 filas del DataFrame para confirmar que los datos se han cargado correctamente."
   ]
  },
  {
   "cell_type": "code",
   "execution_count": null,
   "metadata": {},
   "outputs": [],
   "source": [
    "import pandas as pd\n",
    "\n",
    "# Cargar datos desde un archivo CSV\n",
    "df = pd.read_csv('../data/index.csv')\n",
    "\n",
    "# Ver las primeras\n",
    "print(\"Primeras filas del DataFrame:\")\n",
    "print(df.head(10))"
   ]
  },
  {
   "cell_type": "markdown",
   "metadata": {},
   "source": [
    "### Exploración Inicial de los Datos\n",
    "    - Muestra las últimas 5 filas del DataFrame.\n",
    "    - Utiliza el método info() para obtener información general sobre el DataFrame, incluyendo el número de entradas, nombres de las columnas, tipos de datos y memoria utilizada.\n",
    "    - Genera estadísticas descriptivas del DataFrame utilizando el método describe()."
   ]
  },
  {
   "cell_type": "code",
   "execution_count": null,
   "metadata": {},
   "outputs": [],
   "source": [
    "print(\"Últimas filas del DataFrame:\")\n",
    "print(df.tail(5))\n",
    "print('-----------------------------------------', end='\\n')\n",
    "\n",
    "print(\"Información del DataFrame:\")\n",
    "print(df.info())\n",
    "print('-----------------------------------------', end='\\n')\n",
    "\n",
    "print(\"Estadísticas descriptivas del DataFrame:\")\n",
    "print(df.describe())\n",
    "print('-----------------------------------------', end='\\n')"
   ]
  },
  {
   "cell_type": "markdown",
   "metadata": {},
   "source": [
    "### Limpieza de Datos\n",
    "    - Identifica y maneja los datos faltantes utilizando técnicas apropiadas (relleno con valores estadísticos, interpolación, eliminación, etc.).\n",
    "    - Corrige los tipos de datos si es necesario (por ejemplo, convertir cadenas a fechas).\n",
    "    - Elimina duplicados si los hay."
   ]
  },
  {
   "cell_type": "code",
   "execution_count": null,
   "metadata": {},
   "outputs": [],
   "source": [
    "# Identificar valores nulos en todo el DataFrame\n",
    "print(df.isnull().sum())\n",
    "print('-----------------------------------------', end='\\n')\n",
    "\n",
    "# Eliminar filas con datos faltantes\n",
    "df = df.dropna()\n",
    "print(df.isnull().sum())\n",
    "print('-----------------------------------------', end='\\n')\n",
    "\n",
    "# Eliminar filas con datos duplicados\n",
    "df = df.drop_duplicates()\n",
    "print('-----------------------------------------', end='\\n')\n",
    "\n",
    "\n"
   ]
  },
  {
   "cell_type": "markdown",
   "metadata": {},
   "source": [
    "### Transformación de Datos\n",
    "    - Crea nuevas columnas basadas en operaciones con las columnas existentes (por ejemplo, calcular ingresos a partir de ventas y precios).\n",
    "    - Normaliza o estandariza columnas si es necesario.\n",
    "    - Clasifica los datos en categorías relevantes."
   ]
  },
  {
   "cell_type": "code",
   "execution_count": null,
   "metadata": {},
   "outputs": [],
   "source": [
    "# Nueva columna\n",
    "print(df.head(3))\n",
    "df['Hora'] = df['datetime'].str[11:19]  # Extrae la hora en formato 'HH:MM:SS'\n",
    "print(df.head(3))\n",
    "print('-----------------------------------------', end='\\n')\n",
    "\n",
    "\n",
    "# Agrupar en categorias ('cash_type' y sumar 'money')\n",
    "grouped_df = df.groupby('cash_type')['money'].sum().reset_index()\n",
    "# Imprimir el DataFrame agrupado\n",
    "print(grouped_df)\n",
    "print('-----------------------------------------', end='\\n')"
   ]
  },
  {
   "cell_type": "markdown",
   "metadata": {},
   "source": [
    "### Análisis de Datos\n",
    "    - Realiza agrupaciones de datos utilizando groupby para obtener insights específicos (por ejemplo, ventas por producto, ventas por región, etc.).\n",
    "    - Aplica funciones de agregación como sum, mean, count, min, max, std, y var.\n",
    "    - Utiliza el método apply para realizar operaciones más complejas y personalizadas."
   ]
  },
  {
   "cell_type": "code",
   "execution_count": null,
   "metadata": {},
   "outputs": [],
   "source": [
    "# Agrupar en categorias ('cash_type' y sumar 'money')\n",
    "print(df.head(3))\n",
    "grouped_df = df.groupby('coffee_name')['money'].sum().reset_index()\n",
    "# Imprimir el DataFrame agrupado\n",
    "print(grouped_df)\n",
    "print('-----------------------------------------', end='\\n')\n",
    "\n",
    "# Promedio de costo por producto\n",
    "grouped_df = df.groupby('coffee_name')['money'].mean().reset_index()\n",
    "# Imprimir el DataFrame agrupado\n",
    "print(grouped_df)\n",
    "print('-----------------------------------------', end='\\n')\n",
    "\n",
    "# Agregar un descuento de producto\n",
    "# Función para calcular el 10%\n",
    "def calcular_descuento(monto):\n",
    "    return monto * 0.10\n",
    "# Aplicar la función a la columna 'money'\n",
    "df['descuento'] = df['money'].apply(calcular_descuento)\n",
    "print(df.head(3))\n",
    "print('-----------------------------------------', end='\\n')\n",
    "\n",
    "\n"
   ]
  },
  {
   "cell_type": "markdown",
   "metadata": {},
   "source": [
    "### Documentación\n",
    "    - Documenta claramente cada paso del análisis, explicando qué se hizo y por qué se hizo.\n",
    "    - Asegúrate de que el código sea legible y esté bien comentado."
   ]
  }
 ],
 "metadata": {
  "kernelspec": {
   "display_name": "Python 3",
   "language": "python",
   "name": "python3"
  },
  "language_info": {
   "codemirror_mode": {
    "name": "ipython",
    "version": 3
   },
   "file_extension": ".py",
   "mimetype": "text/x-python",
   "name": "python",
   "nbconvert_exporter": "python",
   "pygments_lexer": "ipython3",
   "version": "3.12.0"
  }
 },
 "nbformat": 4,
 "nbformat_minor": 2
}
