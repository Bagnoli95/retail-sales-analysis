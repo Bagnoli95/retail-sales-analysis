{
 "cells": [
  {
   "cell_type": "code",
   "execution_count": null,
   "metadata": {},
   "outputs": [],
   "source": [
    "import pandas as pd\n",
    "import numpy as np\n",
    "\n",
    "# Crear un DataFrame de ejemplo\n",
    "data = {\n",
    "    'fecha': pd.date_range(start='1/1/2022', periods=10),\n",
    "    'ventas': [100, 200, np.nan, 400, 500, np.nan, 700, 800, 900, np.nan]\n",
    "}\n",
    "df = pd.DataFrame(data)\n",
    "\n",
    "# Interpolación de valores faltantes\n",
    "df['ventas'] = df['ventas'].interpolate()\n",
    "print(df)\n",
    "\n",
    "# Relleno hacia adelante de valores faltantes\n",
    "df['ventas'] = df['ventas'].ffill()\n",
    "print(df)\n",
    "\n",
    "# Relleno hacia atrás de valores faltantes\n",
    "df['ventas'] = df['ventas'].bfill()\n",
    "print(df)"
   ]
  }
 ],
 "metadata": {
  "language_info": {
   "name": "python"
  }
 },
 "nbformat": 4,
 "nbformat_minor": 2
}
