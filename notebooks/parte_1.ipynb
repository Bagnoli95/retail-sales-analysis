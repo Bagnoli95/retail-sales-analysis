{
 "cells": [
  {
   "cell_type": "markdown",
   "metadata": {},
   "source": [
    "## Parte 1: Análisis Básico con NumPy\n",
    "\n",
    "En esta primera parte del proyecto, los estudiantes realizarán un análisis preliminar del dataset utilizando NumPy. El objetivo es familiarizarse con los datos y realizar operaciones básicas de manipulación y análisis.\n",
    "\n",
    "### Instrucciones:\n",
    "\n",
    "#### Configuración Inicial del Proyecto:\n",
    "Crea un repositorio en GitHub para tu proyecto.\n",
    "Configura dos ramas en tu repositorio: main y development.\n",
    "Agrega un archivo README.md con una descripción del proyecto, instrucciones de instalación y uso.\n",
    "#### Carga y Preprocesamiento de Datos:\n",
    "Carga los datos del archivo CSV utilizando NumPy.\n",
    "Realiza un preprocesamiento básico para asegurarte de que los datos estén limpios y listos para su análisis.\n",
    "#### Exploración de Datos:\n",
    "Calcula el total de ventas por categoría de producto.\n",
    "Calcula el promedio de ventas diarias por categoría de producto.\n",
    "Identifica las categorías de productos con mayores y menores ventas.\n",
    "#### Manipulación de Datos:\n",
    "Filtra los datos para mostrar solo las ventas de una categoría de producto específica.\n",
    "Realiza operaciones de suma, resta, multiplicación y división en los datos para obtener estadísticas adicionales."
   ]
  }
 ],
 "metadata": {
  "language_info": {
   "name": "python"
  }
 },
 "nbformat": 4,
 "nbformat_minor": 2
}
