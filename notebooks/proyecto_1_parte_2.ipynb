{
 "cells": [
  {
   "cell_type": "markdown",
   "metadata": {},
   "source": [
    "## Proyecto I- Parte 2 (Core)\n",
    "### Análisis y Predicción de Ventas en una Tienda de Retail\n",
    "### Parte II: Análisis Exploratorio con Pandas\n",
    "En esta segunda parte del proyecto, vamos a utilizar Pandas para realizar un análisis exploratorio más detallado de nuestro dataset de ventas. El objetivo es aplicar técnicas de carga, exploración, filtrado y slicing de datos para obtener una comprensión profunda de los datos y preparar el dataset para futuros análisis y modelados predictivos.\n",
    "\n",
    "### Instrucciones\n",
    "### Preparación del Entorno\n",
    "    - Asegúrate de tener instalado Pandas en tu entorno de trabajo.\n",
    "    - Utiliza el archivo retail_sales.csv del proyecto inicial. Si aún no lo tienes, descarga el archivo correspondiente.\n",
    "\n",
    "### Cargar los Datos\n",
    "    - Carga el archivo retail_sales.csv en un DataFrame de Pandas.\n",
    "    - Muestra las primeras 10 filas del DataFrame para confirmar que los datos se han cargado correctamente."
   ]
  },
  {
   "cell_type": "code",
   "execution_count": null,
   "metadata": {},
   "outputs": [],
   "source": [
    "import pandas as pd\n",
    "\n",
    "# Cargar datos desde un archivo CSV\n",
    "df = pd.read_csv('../data/retail_sales_dataset.csv')\n",
    "\n",
    "# Ver las primeras\n",
    "print(\"Primeras filas del DataFrame:\")\n",
    "print(df.head(10))"
   ]
  },
  {
   "cell_type": "markdown",
   "metadata": {},
   "source": [
    "### Exploración Inicial de los Datos\n",
    "    - Muestra las últimas 5 filas del DataFrame.\n",
    "    - Utiliza el método info() para obtener información general sobre el DataFrame, incluyendo el número de entradas, nombres de las columnas, tipos de datos y memoria utilizada.\n",
    "    - Genera estadísticas descriptivas del DataFrame utilizando el método describe()."
   ]
  },
  {
   "cell_type": "code",
   "execution_count": null,
   "metadata": {},
   "outputs": [],
   "source": [
    "print(\"Últimas filas del DataFrame:\")\n",
    "print(df.tail(5))\n",
    "print('-----------------------------------------', end='\\n')\n",
    "\n",
    "print(\"Información del DataFrame:\")\n",
    "print(df.info())\n",
    "print('-----------------------------------------', end='\\n')\n",
    "\n",
    "print(\"Estadísticas descriptivas del DataFrame:\")\n",
    "print(df.describe())\n",
    "print('-----------------------------------------', end='\\n')"
   ]
  },
  {
   "cell_type": "markdown",
   "metadata": {},
   "source": [
    "### Inspección de los Datos\n",
    "    - Inspecciona los tipos de datos de cada columna utilizando el atributo dtypes.\n",
    "    - Cuenta los valores únicos en la columna Producto utilizando el método value_counts().\n",
    "    - Muestra todos los valores únicos en la columna Tienda utilizando el método unique()."
   ]
  },
  {
   "cell_type": "code",
   "execution_count": null,
   "metadata": {},
   "outputs": [],
   "source": [
    "# Inspeccionar los tipos de datos de las columnas\n",
    "print(\"Tipos de datos de las columnas:\")\n",
    "print(df.dtypes)\n",
    "print('-----------------------------------------', end='\\n')\n",
    "\n",
    "# Contar valores únicos en una columna específica\n",
    "print(\"Conteo de valores únicos en la columna 'Quantity':\")\n",
    "print(df['Quantity'].value_counts())\n",
    "print('-----------------------------------------', end='\\n')\n",
    "\n",
    "# Obtener valores únicos en una columna específica\n",
    "print(\"nValores únicos en la columna 'Date':\")\n",
    "print(df['Date'].unique())\n",
    "print('-----------------------------------------', end='\\n')"
   ]
  },
  {
   "cell_type": "markdown",
   "metadata": {},
   "source": [
    "### Filtrado de Datos\n",
    "    - Filtra el DataFrame para mostrar solo las filas donde las ventas (Ventas) sean mayores a 50.\n",
    "    - Filtra el DataFrame para mostrar solo las filas donde el precio (Precio) sea menor a 0.5.\n",
    "    - Utilizando el método query(), filtra el DataFrame para mostrar las filas donde el producto sea Manzanas y las ventas sean mayores a 30."
   ]
  },
  {
   "cell_type": "code",
   "execution_count": null,
   "metadata": {},
   "outputs": [],
   "source": [
    "# Filtrado de ventas\n",
    "ventas_mayores_a_50 = df[(df['Total Amount'] > 50)]\n",
    "print(ventas_mayores_a_50)\n",
    "print('-----------------------------------------', end='\\n')\n",
    "\n",
    "# Filtrado de ventas\n",
    "ventas_menores_a_0_5 = df[(df['Price per Unit'] < 0.5)]\n",
    "print(ventas_menores_a_0_5)\n",
    "print('-----------------------------------------', end='\\n')\n",
    "\n",
    "# Metodo query\n",
    "query_result = df.query('`Product Category` == \"Electronics\" & `Total Amount` > 30')\n",
    "print(query_result)\n",
    "print('-----------------------------------------', end='\\n')"
   ]
  },
  {
   "cell_type": "markdown",
   "metadata": {},
   "source": [
    "### Slicing de Datos\n",
    "    - Selecciona y muestra solo las columnas Producto y Ventas del DataFrame.\n",
    "    - Utilizando loc[], selecciona y muestra las filas de la 5 a la 10 (inclusive) y las columnas Producto y Tienda.\n",
    "    - Utilizando iloc[], selecciona y muestra las primeras 5 filas y las primeras 3 columnas del DataFrame."
   ]
  },
  {
   "cell_type": "code",
   "execution_count": null,
   "metadata": {},
   "outputs": [],
   "source": [
    "print(df.head(5))\n",
    "print('-----------------------------------------', end='\\n')\n",
    "\n",
    "\n",
    "print(df.columns)\n",
    "print('-----------------------------------------', end='\\n')\n",
    "\n",
    "# Seleccionar Name y Global_Sales\n",
    "sliced_rows = df[['Date','Date']]\n",
    "print(sliced_rows)\n",
    "print('-----------------------------------------', end='\\n')\n",
    "\n",
    "# Seleccionar filas y columnas específicas con loc\n",
    "loc_result = df.loc[5:10, ['Date', 'Gender']]\n",
    "print(loc_result)\n",
    "print('-----------------------------------------', end='\\n')\n",
    "\n",
    "# Seleccionar filas y columnas específicas con iloc\n",
    "iloc_result = df.iloc[0:5, 0:3]\n",
    "print(iloc_result)\n",
    "print('-----------------------------------------', end='\\n')"
   ]
  }
 ],
 "metadata": {
  "kernelspec": {
   "display_name": "Python 3",
   "language": "python",
   "name": "python3"
  },
  "language_info": {
   "codemirror_mode": {
    "name": "ipython",
    "version": 3
   },
   "file_extension": ".py",
   "mimetype": "text/x-python",
   "name": "python",
   "nbconvert_exporter": "python",
   "pygments_lexer": "ipython3",
   "version": "3.12.0"
  }
 },
 "nbformat": 4,
 "nbformat_minor": 2
}
