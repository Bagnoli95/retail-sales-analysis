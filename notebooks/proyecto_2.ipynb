{
 "cells": [
  {
   "cell_type": "markdown",
   "metadata": {},
   "source": [
    "## Analsis de datos con Pandas (Core)\n",
    "### Objetivo\n",
    "\n",
    "El objetivo de este desafío es evaluar tus habilidades en el manejo de datos utilizando Pandas. Trabajarás con un dataset real extraído de Kaggle y aplicarás técnicas de carga, exploración, filtrado y slicing de datos.\n",
    "\n",
    "### Dataset\n",
    "Utilizaremos el dataset de «Video Game Sales» que contiene información sobre las ventas de videojuegos en diferentes regiones del mundo. El dataset incluye detalles sobre el nombre del juego, la plataforma, el año de lanzamiento, el género, el editor, y las ventas en diferentes regiones. Puedes descargar el dataset desde Kaggle.\n",
    "\n",
    "### Preparación del Entorno\n",
    "    - Asegúrate de tener instalado Pandas en tu entorno de trabajo.\n",
    "    - Descarga el archivo vgsales.csv desde Kaggle y colócalo en tu directorio de trabajo.\n",
    "\n",
    "### Cargar los Datos\n",
    "    - Carga el archivo vgsales.csv en un DataFrame de Pandas.\n",
    "    - Muestra las primeras 10 filas del DataFrame para confirmar que los datos se han cargado correctamente."
   ]
  },
  {
   "cell_type": "code",
   "execution_count": null,
   "metadata": {},
   "outputs": [],
   "source": [
    "import pandas as pd\n",
    "\n",
    "# Cargar datos desde un archivo CSV\n",
    "df = pd.read_csv('../data/vgsales.csv')\n",
    "\n",
    "# Ver las primeras\n",
    "print(\"Primeras filas del DataFrame:\")\n",
    "print(df.head(10))"
   ]
  },
  {
   "cell_type": "markdown",
   "metadata": {},
   "source": [
    "### Exploración Inicial de los Datos\n",
    "    - Muestra las últimas 5 filas del DataFrame.\n",
    "    - Utiliza el método info() para obtener información general sobre el DataFrame, incluyendo el número de entradas, nombres de las columnas, tipos de datos y memoria utilizada.\n",
    "    - Genera estadísticas descriptivas del DataFrame utilizando el método describe()."
   ]
  },
  {
   "cell_type": "code",
   "execution_count": null,
   "metadata": {},
   "outputs": [],
   "source": [
    "print(\"Últimas filas del DataFrame:\")\n",
    "print(df.tail(5))\n",
    "\n",
    "print(\"Información del DataFrame:\")\n",
    "print(df.info())\n",
    "\n",
    "print(\"Estadísticas descriptivas del DataFrame:\")\n",
    "print(df.describe())"
   ]
  },
  {
   "cell_type": "markdown",
   "metadata": {},
   "source": [
    "### Inspección de los Datos\n",
    "    - Inspecciona los tipos de datos de cada columna utilizando el atributo dtypes.\n",
    "    - Cuenta los valores únicos en la columna Genre utilizando el método value_counts().\n",
    "    - Muestra todos los valores únicos en la columna Platform utilizando el método unique()."
   ]
  },
  {
   "cell_type": "code",
   "execution_count": null,
   "metadata": {},
   "outputs": [],
   "source": [
    "# Inspeccionar los tipos de datos de las columnas\n",
    "print(\"Tipos de datos de las columnas:\")\n",
    "print(df.dtypes)\n",
    "\n",
    "# Contar valores únicos en una columna específica\n",
    "print(\"Conteo de valores únicos en la columna 'Genre':\")\n",
    "print(df['Genre'].value_counts())\n",
    "\n",
    "# Obtener valores únicos en una columna específica\n",
    "print(\"nValores únicos en la columna 'Platform':\")\n",
    "print(df['Platform'].unique())"
   ]
  },
  {
   "cell_type": "markdown",
   "metadata": {},
   "source": [
    "### Filtrado de Datos\n",
    "    - Filtra el DataFrame para mostrar solo las filas donde las ventas en América del Norte (NA_Sales) sean mayores a 1 millón.\n",
    "    - Filtra el DataFrame para mostrar solo las filas donde las ventas en Japón (JP_Sales) sean menores a 0.1 millón.\n",
    "    - Utilizando el método query(), filtra el DataFrame para mostrar las filas donde el género sea Action y las ventas globales (Global_Sales) sean mayores a 2 millones."
   ]
  },
  {
   "cell_type": "code",
   "execution_count": null,
   "metadata": {},
   "outputs": [],
   "source": [
    "# Filtrado de ventas NA_SALES > 1m\n",
    "ventas_mayores_a_1_millon = df[(df['NA_Sales'] > 1)]\n",
    "print(ventas_mayores_a_1_millon)\n",
    "print('-----------------------------------------', end='\\n')\n",
    "\n",
    "# Filtrado de ventas NA_SALES > 1m\n",
    "ventas_menores_a_0_1_millon = df[(df['JP_Sales'] < 0.1)]\n",
    "print(ventas_menores_a_0_1_millon)\n",
    "print('-----------------------------------------', end='\\n')\n",
    "\n",
    "# Metodo query\n",
    "query_result = df.query('Genre == \"Action\" & Global_Sales > 2')\n",
    "print(query_result)\n",
    "print('-----------------------------------------', end='\\n')"
   ]
  },
  {
   "cell_type": "markdown",
   "metadata": {},
   "source": [
    "### Slicing de Datos\n",
    "    - Selecciona y muestra solo las columnas Name y Global_Sales del DataFrame.\n",
    "    - Utilizando loc[], selecciona y muestra las filas de la 5 a la 10 (inclusive) y las columnas Name y Genre.\n",
    "    - Utilizando iloc[], selecciona y muestra las primeras 5 filas y las primeras 3 columnas del DataFrame."
   ]
  },
  {
   "cell_type": "code",
   "execution_count": 47,
   "metadata": {},
   "outputs": [
    {
     "name": "stdout",
     "output_type": "stream",
     "text": [
      "   Rank                      Name Platform    Year         Genre Publisher  \\\n",
      "0     1                Wii Sports      Wii  2006.0        Sports  Nintendo   \n",
      "1     2         Super Mario Bros.      NES  1985.0      Platform  Nintendo   \n",
      "2     3            Mario Kart Wii      Wii  2008.0        Racing  Nintendo   \n",
      "3     4         Wii Sports Resort      Wii  2009.0        Sports  Nintendo   \n",
      "4     5  Pokemon Red/Pokemon Blue       GB  1996.0  Role-Playing  Nintendo   \n",
      "\n",
      "   NA_Sales  EU_Sales  JP_Sales  Other_Sales  Global_Sales  \n",
      "0     41.49     29.02      3.77         8.46         82.74  \n",
      "1     29.08      3.58      6.81         0.77         40.24  \n",
      "2     15.85     12.88      3.79         3.31         35.82  \n",
      "3     15.75     11.01      3.28         2.96         33.00  \n",
      "4     11.27      8.89     10.22         1.00         31.37  \n",
      "-----------------------------------------\n",
      "                                                   Name  Global_Sales\n",
      "0                                            Wii Sports         82.74\n",
      "1                                     Super Mario Bros.         40.24\n",
      "2                                        Mario Kart Wii         35.82\n",
      "3                                     Wii Sports Resort         33.00\n",
      "4                              Pokemon Red/Pokemon Blue         31.37\n",
      "...                                                 ...           ...\n",
      "16593                Woody Woodpecker in Crazy Castle 5          0.01\n",
      "16594                     Men in Black II: Alien Escape          0.01\n",
      "16595  SCORE International Baja 1000: The Official Game          0.01\n",
      "16596                                        Know How 2          0.01\n",
      "16597                                  Spirits & Spells          0.01\n",
      "\n",
      "[16598 rows x 2 columns]\n",
      "-----------------------------------------\n",
      "                         Name       Genre\n",
      "5                      Tetris      Puzzle\n",
      "6       New Super Mario Bros.    Platform\n",
      "7                    Wii Play        Misc\n",
      "8   New Super Mario Bros. Wii    Platform\n",
      "9                   Duck Hunt     Shooter\n",
      "10                 Nintendogs  Simulation\n",
      "-----------------------------------------\n",
      "   Rank                      Name Platform\n",
      "0     1                Wii Sports      Wii\n",
      "1     2         Super Mario Bros.      NES\n",
      "2     3            Mario Kart Wii      Wii\n",
      "3     4         Wii Sports Resort      Wii\n",
      "4     5  Pokemon Red/Pokemon Blue       GB\n",
      "-----------------------------------------\n"
     ]
    }
   ],
   "source": [
    "print(df.head(5))\n",
    "print('-----------------------------------------', end='\\n')\n",
    "\n",
    "# Seleccionar Name y Global_Sales\n",
    "sliced_rows = df[['Name','Global_Sales']]\n",
    "print(sliced_rows)\n",
    "print('-----------------------------------------', end='\\n')\n",
    "\n",
    "# Seleccionar filas y columnas específicas con loc\n",
    "loc_result = df.loc[5:10, ['Name', 'Genre']]\n",
    "print(loc_result)\n",
    "print('-----------------------------------------', end='\\n')\n",
    "\n",
    "# Seleccionar filas y columnas específicas con iloc\n",
    "iloc_result = df.iloc[0:5, 0:3]\n",
    "print(iloc_result)\n",
    "print('-----------------------------------------', end='\\n')"
   ]
  }
 ],
 "metadata": {
  "kernelspec": {
   "display_name": "Python 3",
   "language": "python",
   "name": "python3"
  },
  "language_info": {
   "codemirror_mode": {
    "name": "ipython",
    "version": 3
   },
   "file_extension": ".py",
   "mimetype": "text/x-python",
   "name": "python",
   "nbconvert_exporter": "python",
   "pygments_lexer": "ipython3",
   "version": "3.12.0"
  }
 },
 "nbformat": 4,
 "nbformat_minor": 2
}
