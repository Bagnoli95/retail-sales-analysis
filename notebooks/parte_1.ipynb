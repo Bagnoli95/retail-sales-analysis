{
 "cells": [
  {
   "cell_type": "markdown",
   "metadata": {},
   "source": [
    "## Parte 1: Análisis Básico con NumPy\n",
    "\n",
    "En esta primera parte del proyecto, los estudiantes realizarán un análisis preliminar del dataset utilizando NumPy. El objetivo es familiarizarse con los datos y realizar operaciones básicas de manipulación y análisis.\n",
    "\n",
    "### Instrucciones:\n",
    "  #### Configuración Inicial del Proyecto:\n",
    "  - Crea un repositorio en GitHub para tu proyecto.\n",
    "  - Configura dos ramas en tu repositorio: main y development.\n",
    "  - Agrega un archivo README.md con una descripción del proyecto, instrucciones de instalación y uso.\n",
    "\n",
    "#### Carga y Preprocesamiento de Datos:\n",
    "  - Carga los datos del archivo CSV utilizando NumPy.\n",
    "  - Realiza un preprocesamiento básico para asegurarte de que los datos estén limpios y listos para su análisis.\n",
    "\n",
    "#### Exploración de Datos:\n",
    "  - Calcula el total de ventas por categoría de producto.\n",
    "  - Calcula el promedio de ventas diarias por categoría de producto.\n",
    "  - Identifica las categorías de productos con mayores y menores ventas.\n",
    "\n",
    "#### Manipulación de Datos:\n",
    "  - Filtra los datos para mostrar solo las ventas de una categoría de producto específica.\n",
    "  - Realiza operaciones de suma, resta, multiplicación y división en los datos para obtener estadísticas adicionales."
   ]
  },
  {
   "cell_type": "code",
   "execution_count": 62,
   "metadata": {},
   "outputs": [
    {
     "name": "stdout",
     "output_type": "stream",
     "text": [
      "('Transaction_ID', 'Date', 'Customer_ID', 'Gender', 'Age', 'Product_Category', 'Quantity', 'Price_per_Unit', 'Total_Amount')\n"
     ]
    }
   ],
   "source": [
    "# carga de datos && comprobación de datos nulos && Limpieza de datos\n",
    "import numpy as np\n",
    "from collections import defaultdict\n",
    "from datetime import datetime\n",
    "\n",
    "def cargar_datos(ruta_archivo):\n",
    "    # Cargar el CSV como un array estructurado, con nombres de columnas y dtype automático\n",
    "    datos = np.genfromtxt(ruta_archivo, delimiter=',', skip_header=0, names=True, dtype=None, encoding='utf-8')\n",
    "    print(datos.dtype.names)\n",
    "    # Verificar y reemplazar valores nulos en las columnas numéricas\n",
    "    columnas_numericas = ['Transaction_ID', 'Age', 'Quantity', 'Price_per_Unit', 'Total_Amount']\n",
    "    for columna in columnas_numericas:\n",
    "        # Detectar si hay valores nulos en las columnas numéricas\n",
    "        if np.isnan(datos[columna]).any():\n",
    "            print(f'Tiene valores nulos en la columna {columna}... Reemplazando valores nulos con 0')\n",
    "            datos[columna] = np.nan_to_num(datos[columna], nan=0)\n",
    "    \n",
    "    return datos\n",
    "\n",
    "if __name__ == \"__main__\":\n",
    "    ruta_archivo = '../data/retail_sales_dataset.csv'\n",
    "    datos = cargar_datos(ruta_archivo)"
   ]
  },
  {
   "cell_type": "code",
   "execution_count": 63,
   "metadata": {},
   "outputs": [
    {
     "name": "stdout",
     "output_type": "stream",
     "text": [
      "Ventas totales por categoría:\n",
      "Beauty: 143515\n",
      "Clothing: 155580\n",
      "Electronics: 156905\n",
      "-----------------------------------------\n",
      "Categoria con más ventas: Electronics => 156905\n",
      "Categoria con menos ventas: Beauty => 143515\n",
      "-----------------------------------------\n",
      "Promedio de ventas diarias por categoría:\n",
      "Beauty: 703.50\n",
      "Clothing: 670.60\n",
      "Electronics: 716.46\n",
      "-----------------------------------------\n"
     ]
    }
   ],
   "source": [
    "# Exploracion de datos\n",
    "\n",
    "def calcular_ventas_por_categoria(datos):\n",
    "    # Calculo de total de ventas por categoria\n",
    "    categorias = datos['Product_Category']  # Extraer las columnas relevantes: categoría del producto (índice 5) y monto total (índice 8)\n",
    "    ventas_totales = datos['Total_Amount'] # Columna de montos totales, convertidos a float\n",
    "    # Crear un diccionario para almacenar las ventas totales por categoría\n",
    "    ventas_por_categoria = {}\n",
    "    # Recorrer los datos para agrupar y sumar por categoría\n",
    "    for categoria, venta in zip(categorias, ventas_totales):\n",
    "        if categoria in ventas_por_categoria:\n",
    "            ventas_por_categoria[categoria] += venta\n",
    "        else:\n",
    "            ventas_por_categoria[categoria] = venta\n",
    "    \n",
    "    # Convertir el diccionario en una lista de tuplas [(categoria, total_ventas), ...]\n",
    "    lista_ventas_categoria = [(categoria, total) for categoria, total in ventas_por_categoria.items()]\n",
    "    return lista_ventas_categoria\n",
    "\n",
    "def calcular_categorias_mas_menos_ventas(ventas_categoria):\n",
    "    ventas_categoria = sorted(ventas_categoria, key=lambda x: x[1], reverse=True)\n",
    "    mas_ventas = ventas_categoria[0]\n",
    "    menos_ventas = ventas_categoria[-1]\n",
    "    return mas_ventas, menos_ventas\n",
    "\n",
    "def calcular_promedio_ventas_diarias_por_categoria(datos):\n",
    "    # Diccionarios para acumular las ventas totales por categoría y los días de ventas\n",
    "    ventas_por_categoria = defaultdict(float)\n",
    "    dias_por_categoria = defaultdict(set)  # Usamos set para evitar contar días duplicados\n",
    "    # Recorrer el dataset\n",
    "    for fila in datos:\n",
    "        categoria = fila['Product_Category']\n",
    "        fecha = fila['Date']\n",
    "        ventas = fila['Total_Amount']\n",
    "        # Convertir la fecha a objeto datetime para garantizar que sea comparable\n",
    "        fecha_convertida = datetime.strptime(fecha, '%Y-%m-%d')\n",
    "        # Acumular ventas por categoría\n",
    "        ventas_por_categoria[categoria] += ventas\n",
    "        # Agregar la fecha al conjunto de días por categoría (evita contar días repetidos)\n",
    "        dias_por_categoria[categoria].add(fecha_convertida)\n",
    "    # Diccionario para almacenar el promedio de ventas diarias por categoría\n",
    "    promedio_ventas_diarias = {}\n",
    "    # Calcular el promedio de ventas diarias por categoría\n",
    "    for categoria in ventas_por_categoria:\n",
    "        total_ventas = ventas_por_categoria[categoria]\n",
    "        total_dias = len(dias_por_categoria[categoria])\n",
    "        if total_dias > 0:\n",
    "            promedio_ventas_diarias[categoria] = total_ventas / total_dias\n",
    "        else:\n",
    "            promedio_ventas_diarias[categoria] = 0  # Evitar división por cero\n",
    "    return promedio_ventas_diarias\n",
    "\n",
    "# Calcular el total de ventas por categoría\n",
    "ventas_categoria = calcular_ventas_por_categoria(datos)\n",
    "print(\"Ventas totales por categoría:\")\n",
    "for categoria, total in ventas_categoria:\n",
    "    print(f\"{categoria}: {total}\")\n",
    "print('-----------------------------------------', end='\\n')\n",
    "\n",
    "# Calcular categoria con mayor y menor venta\n",
    "mas_ventas, menos_ventas =calcular_categorias_mas_menos_ventas(ventas_categoria)\n",
    "print(f'Categoria con más ventas: {mas_ventas[0]} => {mas_ventas[1]}')\n",
    "print(f'Categoria con menos ventas: {menos_ventas[0]} => {menos_ventas[1]}')\n",
    "print('-----------------------------------------', end='\\n')\n",
    "\n",
    "# Calcular el promedio de ventas diarias por categoría\n",
    "promedio_ventas_categoria = calcular_promedio_ventas_diarias_por_categoria(datos)\n",
    "print(\"Promedio de ventas diarias por categoría:\")\n",
    "for categoria, promedio in promedio_ventas_categoria.items():\n",
    "    print(f\"{categoria}: {promedio:.2f}\")\n",
    "print('-----------------------------------------', end='\\n')\n"
   ]
  },
  {
   "cell_type": "code",
   "execution_count": 79,
   "metadata": {},
   "outputs": [
    {
     "name": "stdout",
     "output_type": "stream",
     "text": [
      "Ventas totales de la categoria: Electronics => 156905\n"
     ]
    }
   ],
   "source": [
    "# Filtra los datos para mostrar solo las ventas de una categoría de producto específica.\n",
    "# Realiza operaciones de suma, resta, multiplicación y división en los datos para obtener estadísticas adicionales.\n",
    "def mostrar_ventas_filtro_categoria(datos, categoria):\n",
    "    ventas_totales = 0\n",
    "    for row in datos:\n",
    "        if categoria in row['Product_Category']:\n",
    "            ventas_totales += row['Total_Amount']\n",
    "    return ventas_totales\n",
    "\n",
    "categoria = 'Electronics'\n",
    "ventas_totales = mostrar_ventas_filtro_categoria(datos, categoria)\n",
    "print(f'Ventas totales de la categoria: {categoria} => {ventas_totales}') "
   ]
  }
 ],
 "metadata": {
  "kernelspec": {
   "display_name": "Python 3",
   "language": "python",
   "name": "python3"
  },
  "language_info": {
   "codemirror_mode": {
    "name": "ipython",
    "version": 3
   },
   "file_extension": ".py",
   "mimetype": "text/x-python",
   "name": "python",
   "nbconvert_exporter": "python",
   "pygments_lexer": "ipython3",
   "version": "3.12.0"
  }
 },
 "nbformat": 4,
 "nbformat_minor": 2
}
